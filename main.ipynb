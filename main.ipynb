{
 "cells": [
  {
   "cell_type": "code",
   "execution_count": 166,
   "id": "2d0904b9",
   "metadata": {},
   "outputs": [],
   "source": [
    "REG_URL=\"https://registry.npmjs.org/\"\n",
    "GIT_RAW=\"https://raw.githubusercontent.com/\"\n",
    "packages = [\"ssh2\", \"bcrypt-pbkdf\", \"react\",\"xterm\", \"@types/chai\"]\n",
    "selected=packages[0]"
   ]
  },
  {
   "cell_type": "code",
   "execution_count": 167,
   "id": "e8f08bac",
   "metadata": {},
   "outputs": [],
   "source": [
    "import requests\n",
    "import re\n",
    "import json\n",
    "import networkx as nx\n",
    "import matplotlib.pyplot as plt"
   ]
  },
  {
   "cell_type": "code",
   "execution_count": null,
   "id": "a3f23228",
   "metadata": {},
   "outputs": [],
   "source": [
    "# def getDependencies(selected):\n",
    "    "
   ]
  },
  {
   "cell_type": "code",
   "execution_count": 168,
   "id": "599c5d9d",
   "metadata": {},
   "outputs": [
    {
     "data": {
      "text/plain": [
       "'git+ssh://git@github.com/mscdex/ssh2.git'"
      ]
     },
     "execution_count": 168,
     "metadata": {},
     "output_type": "execute_result"
    }
   ],
   "source": [
    "res = requests.get(REG_URL + selected)\n",
    "if res.status_code != 200:\n",
    "    print(\"NPM lookup failed\")\n",
    "git_url = res.json()['repository']['url']\n",
    "git_url"
   ]
  },
  {
   "cell_type": "code",
   "execution_count": 169,
   "id": "02fe1445",
   "metadata": {},
   "outputs": [
    {
     "data": {
      "text/plain": [
       "'mscdex/ssh2'"
      ]
     },
     "execution_count": 169,
     "metadata": {},
     "output_type": "execute_result"
    }
   ],
   "source": [
    "git_sub_url = re.split(\".com\\/*\", git_url)\n",
    "git_id = re.split(\"\\.git\", git_sub_url[1])[0]\n",
    "# git_id = re.split(\"^*(\\.git)\", temp[1])\n",
    "\n",
    "# if(len(git_id) != 2):\n",
    "#     print(\"NPM lookup / github parse failed\")\n",
    "git_id"
   ]
  },
  {
   "cell_type": "code",
   "execution_count": 170,
   "id": "a7b9f207",
   "metadata": {},
   "outputs": [
    {
     "name": "stdout",
     "output_type": "stream",
     "text": [
      "{\n",
      "  \"name\": \"ssh2\",\n",
      "  \"version\": \"1.5.0\",\n",
      "  \"author\": \"Brian White <mscdex@mscdex.net>\",\n",
      "  \"description\": \"SSH2 client and server modules written in pure JavaScript for node.js\",\n",
      "  \"main\": \"./lib/index.js\",\n",
      "  \"engines\": {\n",
      "    \"node\": \">=10.16.0\"\n",
      "  },\n",
      "  \"dependencies\": {\n",
      "    \"asn1\": \"^0.2.4\",\n",
      "    \"bcrypt-pbkdf\": \"^1.0.2\"\n",
      "  },\n",
      "  \"devDependencies\": {\n",
      "    \"@mscdex/eslint-config\": \"^1.0.0\",\n",
      "    \"eslint\": \"^7.0.0\"\n",
      "  },\n",
      "  \"optionalDependencies\": {\n",
      "    \"cpu-features\": \"0.0.2\",\n",
      "    \"nan\": \"^2.15.0\"\n",
      "  },\n",
      "  \"scripts\": {\n",
      "    \"install\": \"node install.js\",\n",
      "    \"rebuild\": \"node install.js\",\n",
      "    \"test\": \"node test/test.js\",\n",
      "    \"lint\": \"eslint --cache --report-unused-disable-directives --ext=.js .eslintrc.js examples lib test\",\n",
      "    \"lint:fix\": \"npm run lint -- --fix\"\n",
      "  },\n",
      "  \"keywords\": [\n",
      "    \"ssh\",\n",
      "    \"ssh2\",\n",
      "    \"sftp\",\n",
      "    \"secure\",\n",
      "    \"shell\",\n",
      "    \"exec\",\n",
      "    \"remote\",\n",
      "    \"client\"\n",
      "  ],\n",
      "  \"licenses\": [\n",
      "    {\n",
      "      \"type\": \"MIT\",\n",
      "      \"url\": \"http://github.com/mscdex/ssh2/raw/master/LICENSE\"\n",
      "    }\n",
      "  ],\n",
      "  \"repository\": {\n",
      "    \"type\": \"git\",\n",
      "    \"url\": \"http://github.com/mscdex/ssh2.git\"\n",
      "  }\n",
      "}\n",
      "\n"
     ]
    }
   ],
   "source": [
    "#https://raw.githubusercontent.com/mscdex/ssh2/master/package.json\n",
    "res = requests.get(GIT_RAW+git_id + \"/master/package.json\")\n",
    "print(res.text)"
   ]
  },
  {
   "cell_type": "code",
   "execution_count": 171,
   "id": "abe73d60",
   "metadata": {},
   "outputs": [
    {
     "name": "stdout",
     "output_type": "stream",
     "text": [
      "{'dev': ['@mscdex/eslint-config', 'eslint'], 'prod': ['asn1', 'bcrypt-pbkdf']}\n"
     ]
    }
   ],
   "source": [
    "#grab the (dev)dependencies names\n",
    "package = json.loads(res.text)\n",
    "dependencies = {\"dev\": [], \"prod\": []}\n",
    "if \"devDependencies\" in package:\n",
    "    for dep in package[\"devDependencies\"]:\n",
    "            dependencies[\"dev\"].append(dep)\n",
    "            \n",
    "if \"dependencies\" in package:\n",
    "    for dep in package[\"dependencies\"]:\n",
    "            dependencies[\"prod\"].append(dep)\n",
    "        \n",
    "print(dependencies)\n"
   ]
  },
  {
   "cell_type": "code",
   "execution_count": 173,
   "id": "1096df6c",
   "metadata": {},
   "outputs": [
    {
     "data": {
      "image/png": "[encoded data removed]",
      "text/plain": [
       "<Figure size 432x288 with 1 Axes>"
      ]
     },
     "metadata": {},
     "output_type": "display_data"
    }
   ],
   "source": [
    "G = nx.DiGraph()\n",
    "\n",
    "edges = []\n",
    "for dep in dependencies[\"dev\"]:\n",
    "    edges.append((selected,dep))\n",
    "for dep in dependencies[\"prod\"]:\n",
    "    edges.append((selected,dep))    \n",
    "\n",
    "G.add_edges_from(edges)\n",
    "# G.add_edges_from([(1,8)]) \n",
    "# plt.figure(figsize =(9, 9))\n",
    "pos = nx.shell_layout(G)\n",
    "nx.draw_networkx(G, pos)"
   ]
  },
  {
   "cell_type": "code",
   "execution_count": null,
   "id": "39299c05",
   "metadata": {},
   "outputs": [],
   "source": []
  }
 ],
 "metadata": {
  "kernelspec": {
   "display_name": "Python 3 (ipykernel)",
   "language": "python",
   "name": "python3"
  },
  "language_info": {
   "codemirror_mode": {
    "name": "ipython",
    "version": 3
   },
   "file_extension": ".py",
   "mimetype": "text/x-python",
   "name": "python",
   "nbconvert_exporter": "python",
   "pygments_lexer": "ipython3",
   "version": "3.9.7"
  }
 },
 "nbformat": 4,
 "nbformat_minor": 5
}
